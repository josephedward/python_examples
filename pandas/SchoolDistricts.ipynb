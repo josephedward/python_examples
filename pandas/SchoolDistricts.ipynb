{
 "cells": [
  {
   "cell_type": "markdown",
   "metadata": {},
   "source": [
    "### Note\n",
    "* Instructions have been included for each segment. You do not have to follow them exactly, but they are included to help you think through the steps."
   ]
  },
  {
   "cell_type": "code",
   "execution_count": 1651,
   "metadata": {},
   "outputs": [
    {
     "data": {
      "text/plain": "Index(['Student ID', 'student_name', 'gender', 'grade', 'school_name',\n       'reading_score', 'math_score', 'School ID', 'type', 'size', 'budget'],\n      dtype='object')"
     },
     "execution_count": 1651,
     "metadata": {},
     "output_type": "execute_result"
    }
   ],
   "source": [
    "# Dependencies and Setup\n",
    "import pandas as pd\n",
    "\n",
    "# File to Load (Remember to Change These)\n",
    "school_data_to_load = \"./schools_complete.csv\"\n",
    "student_data_to_load = \"./students_complete.csv\"\n",
    "\n",
    "# Read School and Student Data File and store into Pandas Data Frames\n",
    "school_data = pd.read_csv(school_data_to_load)\n",
    "student_data = pd.read_csv(student_data_to_load)\n",
    "\n",
    "# Combine the data into a single dataset\n",
    "school_data_complete = pd.merge(student_data, school_data, how=\"left\", on=[\"school_name\", \"school_name\"])\n",
    "\n",
    "school_data_complete.columns"
   ]
  },
  {
   "cell_type": "code",
   "execution_count": null,
   "metadata": {},
   "outputs": [],
   "source": []
  },
  {
   "cell_type": "markdown",
   "metadata": {},
   "source": [
    "## District Summary\n",
    "\n",
    "* Calculate the total number of schools\n",
    "\n",
    "* Calculate the total number of students\n",
    "\n",
    "* Calculate the total budget\n",
    "\n",
    "* Calculate the average math score \n",
    "\n",
    "* Calculate the average reading score\n",
    "\n",
    "* Calculate the overall passing rate (overall average score), i.e. (avg. math score + avg. reading score)/2\n",
    "\n",
    "* Calculate the percentage of students with a passing math score (70 or greater)\n",
    "\n",
    "* Calculate the percentage of students with a passing reading score (70 or greater)\n",
    "\n",
    "* Create a dataframe to hold the above results\n",
    "\n",
    "* Optional: give the displayed data cleaner formatting"
   ]
  },
  {
   "cell_type": "code",
   "execution_count": 1652,
   "metadata": {},
   "outputs": [
    {
     "data": {
      "text/html": "<div>\n<style scoped>\n    .dataframe tbody tr th:only-of-type {\n        vertical-align: middle;\n    }\n\n    .dataframe tbody tr th {\n        vertical-align: top;\n    }\n\n    .dataframe thead th {\n        text-align: right;\n    }\n</style>\n<table border=\"1\" class=\"dataframe\">\n  <thead>\n    <tr style=\"text-align: right;\">\n      <th></th>\n      <th>Total Schools</th>\n      <th>Total Students</th>\n      <th>Total Budget</th>\n      <th>Average Math Score</th>\n      <th>Average Reading Score</th>\n      <th>% Passing Math</th>\n      <th>% Passing Reading</th>\n      <th>Mean Pass Rate</th>\n      <th>Mean Average Score</th>\n    </tr>\n  </thead>\n  <tbody>\n    <tr>\n      <td>0</td>\n      <td>15</td>\n      <td>39170</td>\n      <td>$24,649,428.00</td>\n      <td>78.99</td>\n      <td>81.88</td>\n      <td>74.98%</td>\n      <td>85.81%</td>\n      <td>80.39%</td>\n      <td>80.44%</td>\n    </tr>\n  </tbody>\n</table>\n</div>",
      "text/plain": "   Total Schools  Total Students    Total Budget  Average Math Score  \\\n0             15           39170  $24,649,428.00               78.99   \n\n   Average Reading Score % Passing Math % Passing Reading Mean Pass Rate  \\\n0                  81.88         74.98%            85.81%         80.39%   \n\n  Mean Average Score  \n0             80.44%  "
     },
     "execution_count": 1652,
     "metadata": {},
     "output_type": "execute_result"
    }
   ],
   "source": [
    "# Calculate the total number of schools\n",
    "num_schools = len(school_data)\n",
    "# Calculate the total number of students\n",
    "num_students = len(student_data)\n",
    "import locale\n",
    "locale.setlocale(locale.LC_ALL, 'en_US.UTF-8')\n",
    "# Calculate the total budget\n",
    "total_budget = locale.currency(float(format(school_data[\"budget\"].sum(),\"2f\")), grouping=True )\n",
    "# Average Reading Score\n",
    "avg_reading = float(format(student_data[\"reading_score\"].mean(),\".2f\"))\n",
    "# Average Math Score\n",
    "avg_math = float(format(student_data[\"math_score\"].mean(),\".2f\"))\n",
    "# Number of Passing \n",
    "num_passing_read = len(student_data[student_data[\"reading_score\"] >= 70])\n",
    "# Percentage\n",
    "pass_percent_reading = format((num_passing_read/num_students),\".2%\")\n",
    "# Number of Passing \n",
    "num_passing_math = len(student_data[student_data[\"math_score\"] >= 70])\n",
    "# Percentage\n",
    "pass_percent_math = format((num_passing_math/num_students),\".2%\")\n",
    "# Overall\n",
    "overall_pass_percent = format(((num_passing_math/num_students)+(num_passing_read/num_students))/2,\".2%\")\n",
    "overall_pass_percent\n",
    "# ??? Above? \n",
    "overall_average_score = format((((avg_math+avg_reading)/2)/100),\".2%\")\n",
    "overall_average_score\n",
    "\n",
    "summary_df = pd.DataFrame({\"Total Schools\":num_schools, \"Total Students\":num_students, \"Total Budget\": total_budget, \"Average Math Score\":avg_math, \"Average Reading Score\": avg_reading, \"% Passing Math\":pass_percent_math, \"% Passing Reading\":pass_percent_reading, \"Mean Pass Rate\":overall_pass_percent, \"Mean Average Score\":overall_average_score}, index=[0])\n",
    "\n",
    "summary_df"
   ]
  },
  {
   "cell_type": "markdown",
   "metadata": {},
   "source": [
    "## School Summary"
   ]
  },
  {
   "cell_type": "markdown",
   "metadata": {},
   "source": [
    "* Create an overview table that summarizes key metrics about each school, including:\n",
    "  * School Name\n",
    "  * School Type\n",
    "  * Total Students\n",
    "  * Total School Budget\n",
    "  * Per Student Budget\n",
    "  * Average Math Score\n",
    "  * Average Reading Score\n",
    "  * % Passing Math\n",
    "  * % Passing Reading\n",
    "  * Overall Passing Rate (Average of the above two)\n",
    "  \n",
    "* Create a dataframe to hold the above results"
   ]
  },
  {
   "cell_type": "code",
   "execution_count": 1653,
   "metadata": {},
   "outputs": [
    {
     "data": {
      "text/html": "<div>\n<style scoped>\n    .dataframe tbody tr th:only-of-type {\n        vertical-align: middle;\n    }\n\n    .dataframe tbody tr th {\n        vertical-align: top;\n    }\n\n    .dataframe thead th {\n        text-align: right;\n    }\n</style>\n<table border=\"1\" class=\"dataframe\">\n  <thead>\n    <tr style=\"text-align: right;\">\n      <th></th>\n      <th></th>\n      <th>Total Students</th>\n      <th>Total Budget</th>\n      <th>Per Student Budget</th>\n      <th>Average Math Score</th>\n      <th>Average Reading Score</th>\n      <th>Percentage Passing Math</th>\n      <th>Percentage Passing Reading</th>\n      <th>Overall Passing Rate</th>\n    </tr>\n    <tr>\n      <th>school_name</th>\n      <th>type</th>\n      <th></th>\n      <th></th>\n      <th></th>\n      <th></th>\n      <th></th>\n      <th></th>\n      <th></th>\n      <th></th>\n    </tr>\n  </thead>\n  <tbody>\n    <tr>\n      <td>Bailey High School</td>\n      <td>District</td>\n      <td>4976</td>\n      <td>$3,124,928.00</td>\n      <td>$628.00</td>\n      <td>77.05</td>\n      <td>81.03</td>\n      <td>66.68%</td>\n      <td>81.93%</td>\n      <td>74.31%</td>\n    </tr>\n    <tr>\n      <td>Cabrera High School</td>\n      <td>Charter</td>\n      <td>1858</td>\n      <td>$1,081,356.00</td>\n      <td>$582.00</td>\n      <td>83.06</td>\n      <td>83.98</td>\n      <td>94.13%</td>\n      <td>97.04%</td>\n      <td>95.59%</td>\n    </tr>\n    <tr>\n      <td>Figueroa High School</td>\n      <td>District</td>\n      <td>2949</td>\n      <td>$1,884,411.00</td>\n      <td>$639.00</td>\n      <td>76.71</td>\n      <td>81.16</td>\n      <td>65.99%</td>\n      <td>80.74%</td>\n      <td>73.36%</td>\n    </tr>\n    <tr>\n      <td>Ford High School</td>\n      <td>District</td>\n      <td>2739</td>\n      <td>$1,763,916.00</td>\n      <td>$644.00</td>\n      <td>77.10</td>\n      <td>80.75</td>\n      <td>68.31%</td>\n      <td>79.30%</td>\n      <td>73.81%</td>\n    </tr>\n    <tr>\n      <td>Griffin High School</td>\n      <td>Charter</td>\n      <td>1468</td>\n      <td>$917,500.00</td>\n      <td>$625.00</td>\n      <td>83.35</td>\n      <td>83.82</td>\n      <td>93.39%</td>\n      <td>97.14%</td>\n      <td>95.27%</td>\n    </tr>\n    <tr>\n      <td>Hernandez High School</td>\n      <td>District</td>\n      <td>4635</td>\n      <td>$3,022,020.00</td>\n      <td>$652.00</td>\n      <td>77.29</td>\n      <td>80.93</td>\n      <td>66.75%</td>\n      <td>80.86%</td>\n      <td>73.81%</td>\n    </tr>\n    <tr>\n      <td>Holden High School</td>\n      <td>Charter</td>\n      <td>427</td>\n      <td>$248,087.00</td>\n      <td>$581.00</td>\n      <td>83.80</td>\n      <td>83.81</td>\n      <td>92.51%</td>\n      <td>96.25%</td>\n      <td>94.38%</td>\n    </tr>\n    <tr>\n      <td>Huang High School</td>\n      <td>District</td>\n      <td>2917</td>\n      <td>$1,910,635.00</td>\n      <td>$655.00</td>\n      <td>76.63</td>\n      <td>81.18</td>\n      <td>65.68%</td>\n      <td>81.32%</td>\n      <td>73.50%</td>\n    </tr>\n    <tr>\n      <td>Johnson High School</td>\n      <td>District</td>\n      <td>4761</td>\n      <td>$3,094,650.00</td>\n      <td>$650.00</td>\n      <td>77.07</td>\n      <td>80.97</td>\n      <td>66.06%</td>\n      <td>81.22%</td>\n      <td>73.64%</td>\n    </tr>\n    <tr>\n      <td>Pena High School</td>\n      <td>Charter</td>\n      <td>962</td>\n      <td>$585,858.00</td>\n      <td>$609.00</td>\n      <td>83.84</td>\n      <td>84.04</td>\n      <td>94.59%</td>\n      <td>95.95%</td>\n      <td>95.27%</td>\n    </tr>\n    <tr>\n      <td>Rodriguez High School</td>\n      <td>District</td>\n      <td>3999</td>\n      <td>$2,547,363.00</td>\n      <td>$637.00</td>\n      <td>76.84</td>\n      <td>80.74</td>\n      <td>66.37%</td>\n      <td>80.22%</td>\n      <td>73.30%</td>\n    </tr>\n    <tr>\n      <td>Shelton High School</td>\n      <td>Charter</td>\n      <td>1761</td>\n      <td>$1,056,600.00</td>\n      <td>$600.00</td>\n      <td>83.36</td>\n      <td>83.73</td>\n      <td>93.87%</td>\n      <td>95.85%</td>\n      <td>94.86%</td>\n    </tr>\n    <tr>\n      <td>Thomas High School</td>\n      <td>Charter</td>\n      <td>1635</td>\n      <td>$1,043,130.00</td>\n      <td>$638.00</td>\n      <td>83.42</td>\n      <td>83.85</td>\n      <td>93.27%</td>\n      <td>97.31%</td>\n      <td>95.29%</td>\n    </tr>\n    <tr>\n      <td>Wilson High School</td>\n      <td>Charter</td>\n      <td>2283</td>\n      <td>$1,319,574.00</td>\n      <td>$578.00</td>\n      <td>83.27</td>\n      <td>83.99</td>\n      <td>93.87%</td>\n      <td>96.54%</td>\n      <td>95.21%</td>\n    </tr>\n    <tr>\n      <td>Wright High School</td>\n      <td>Charter</td>\n      <td>1800</td>\n      <td>$1,049,400.00</td>\n      <td>$583.00</td>\n      <td>83.68</td>\n      <td>83.95</td>\n      <td>93.33%</td>\n      <td>96.61%</td>\n      <td>94.97%</td>\n    </tr>\n  </tbody>\n</table>\n</div>",
      "text/plain": "                                Total Students   Total Budget  \\\nschool_name           type                                      \nBailey High School    District            4976  $3,124,928.00   \nCabrera High School   Charter             1858  $1,081,356.00   \nFigueroa High School  District            2949  $1,884,411.00   \nFord High School      District            2739  $1,763,916.00   \nGriffin High School   Charter             1468    $917,500.00   \nHernandez High School District            4635  $3,022,020.00   \nHolden High School    Charter              427    $248,087.00   \nHuang High School     District            2917  $1,910,635.00   \nJohnson High School   District            4761  $3,094,650.00   \nPena High School      Charter              962    $585,858.00   \nRodriguez High School District            3999  $2,547,363.00   \nShelton High School   Charter             1761  $1,056,600.00   \nThomas High School    Charter             1635  $1,043,130.00   \nWilson High School    Charter             2283  $1,319,574.00   \nWright High School    Charter             1800  $1,049,400.00   \n\n                               Per Student Budget Average Math Score  \\\nschool_name           type                                             \nBailey High School    District            $628.00              77.05   \nCabrera High School   Charter             $582.00              83.06   \nFigueroa High School  District            $639.00              76.71   \nFord High School      District            $644.00              77.10   \nGriffin High School   Charter             $625.00              83.35   \nHernandez High School District            $652.00              77.29   \nHolden High School    Charter             $581.00              83.80   \nHuang High School     District            $655.00              76.63   \nJohnson High School   District            $650.00              77.07   \nPena High School      Charter             $609.00              83.84   \nRodriguez High School District            $637.00              76.84   \nShelton High School   Charter             $600.00              83.36   \nThomas High School    Charter             $638.00              83.42   \nWilson High School    Charter             $578.00              83.27   \nWright High School    Charter             $583.00              83.68   \n\n                               Average Reading Score Percentage Passing Math  \\\nschool_name           type                                                     \nBailey High School    District                 81.03                  66.68%   \nCabrera High School   Charter                  83.98                  94.13%   \nFigueroa High School  District                 81.16                  65.99%   \nFord High School      District                 80.75                  68.31%   \nGriffin High School   Charter                  83.82                  93.39%   \nHernandez High School District                 80.93                  66.75%   \nHolden High School    Charter                  83.81                  92.51%   \nHuang High School     District                 81.18                  65.68%   \nJohnson High School   District                 80.97                  66.06%   \nPena High School      Charter                  84.04                  94.59%   \nRodriguez High School District                 80.74                  66.37%   \nShelton High School   Charter                  83.73                  93.87%   \nThomas High School    Charter                  83.85                  93.27%   \nWilson High School    Charter                  83.99                  93.87%   \nWright High School    Charter                  83.95                  93.33%   \n\n                               Percentage Passing Reading Overall Passing Rate  \nschool_name           type                                                      \nBailey High School    District                     81.93%               74.31%  \nCabrera High School   Charter                      97.04%               95.59%  \nFigueroa High School  District                     80.74%               73.36%  \nFord High School      District                     79.30%               73.81%  \nGriffin High School   Charter                      97.14%               95.27%  \nHernandez High School District                     80.86%               73.81%  \nHolden High School    Charter                      96.25%               94.38%  \nHuang High School     District                     81.32%               73.50%  \nJohnson High School   District                     81.22%               73.64%  \nPena High School      Charter                      95.95%               95.27%  \nRodriguez High School District                     80.22%               73.30%  \nShelton High School   Charter                      95.85%               94.86%  \nThomas High School    Charter                      97.31%               95.29%  \nWilson High School    Charter                      96.54%               95.21%  \nWright High School    Charter                      96.61%               94.97%  "
     },
     "execution_count": 1653,
     "metadata": {},
     "output_type": "execute_result"
    }
   ],
   "source": [
    "school_group = school_data_complete.groupby([\"school_name\", \"type\"], axis=0)\n",
    "school_names = school_data_complete[\"school_name\"].unique()\n",
    "students_by_school = school_group[\"student_name\"].count()\n",
    "budget_by_school = school_group[\"budget\"].mean()\n",
    "per_student_budget = [budget_by_school[x]/students_by_school[x] for x in range(len(budget_by_school))]\n",
    "# per_student_budget\n",
    "read_avg_by_school = [format(x , \".2f\") for x in school_group[\"reading_score\"].mean()]\n",
    "# format(float(school_group[\"reading_score\"].mean()), \".2\")\n",
    "math_avg_by_school = [format(x , \".2f\") for x in school_group[\"math_score\"].mean()]\n",
    "# school_group[\"math_score\"].mean()\n",
    "pass_read_by_school = school_data_complete[school_data_complete[\"reading_score\"] >=70].groupby([\"school_name\"]).count()\n",
    "pass_read_by_school = pass_read_by_school[\"reading_score\"]\n",
    "# pass_read_by_school\n",
    "pass_math_by_school = school_data_complete[school_data_complete[\"math_score\"] >=70].groupby([\"school_name\"]).count()\n",
    "pass_math_by_school = pass_math_by_school[\"math_score\"]\n",
    "\n",
    "# pass_math_by_school\n",
    "percent_pass_reading_by_school = [format((pass_read_by_school[x]/students_by_school[x]), \".2%\") for x in range(len(students_by_school))]\n",
    "\n",
    "percent_pass_math_by_school = [format((pass_math_by_school[x]/students_by_school[x]), \".2%\") for x in range(len(students_by_school))]\n",
    "\n",
    "overall_pass_percent_by_school = [format(((float(percent_pass_reading_by_school[x].strip(\"%\"))+float(percent_pass_math_by_school[x].strip(\"%\")))/2/100), \".2%\") for x in range(len(students_by_school))]\n",
    "\n",
    "# format budget total\n",
    "format_total = [locale.currency(float(format(x,\"2f\")), grouping=True )\n",
    " for x in budget_by_school]\n",
    "\n",
    "format_per_student_budget = [locale.currency(float(format(x,\"2f\")), grouping=True )\n",
    " for x in per_student_budget]\n",
    "\n",
    "# format_total\n",
    "\n",
    "by_school_df = pd.DataFrame({\"Total Students\":students_by_school, \"Total Budget\":format_total, \"Per Student Budget\":format_per_student_budget, \"Average Math Score\":math_avg_by_school, \"Average Reading Score\":read_avg_by_school, \"Percentage Passing Math\":percent_pass_math_by_school, \"Percentage Passing Reading\":percent_pass_reading_by_school, \"Overall Passing Rate\": overall_pass_percent_by_school })\n",
    "\n",
    "\n",
    "\n",
    "by_school_df_copy = pd.DataFrame({\"Total Students\":students_by_school, \"Total Budget\":format_total, \"Per Student Budget\":format_per_student_budget, \"Average Math Score\":math_avg_by_school, \"Average Reading Score\":read_avg_by_school, \"Percentage Passing Math\":percent_pass_math_by_school, \"Percentage Passing Reading\":percent_pass_reading_by_school, \"Overall Passing Rate\": overall_pass_percent_by_school })\n",
    "\n",
    "\n",
    "by_school_df"
   ]
  },
  {
   "cell_type": "markdown",
   "metadata": {},
   "source": [
    "## Top Performing Schools (By Passing Rate)"
   ]
  },
  {
   "cell_type": "markdown",
   "metadata": {},
   "source": [
    "* Sort and display the top five schools in overall passing rate"
   ]
  },
  {
   "cell_type": "code",
   "execution_count": 1654,
   "metadata": {},
   "outputs": [
    {
     "data": {
      "text/html": "<div>\n<style scoped>\n    .dataframe tbody tr th:only-of-type {\n        vertical-align: middle;\n    }\n\n    .dataframe tbody tr th {\n        vertical-align: top;\n    }\n\n    .dataframe thead th {\n        text-align: right;\n    }\n</style>\n<table border=\"1\" class=\"dataframe\">\n  <thead>\n    <tr style=\"text-align: right;\">\n      <th></th>\n      <th></th>\n      <th>Total Students</th>\n      <th>Total Budget</th>\n      <th>Per Student Budget</th>\n      <th>Average Math Score</th>\n      <th>Average Reading Score</th>\n      <th>Percentage Passing Math</th>\n      <th>Percentage Passing Reading</th>\n      <th>Overall Passing Rate</th>\n    </tr>\n    <tr>\n      <th>school_name</th>\n      <th>type</th>\n      <th></th>\n      <th></th>\n      <th></th>\n      <th></th>\n      <th></th>\n      <th></th>\n      <th></th>\n      <th></th>\n    </tr>\n  </thead>\n  <tbody>\n    <tr>\n      <td>Cabrera High School</td>\n      <td>Charter</td>\n      <td>1858</td>\n      <td>$1,081,356.00</td>\n      <td>$582.00</td>\n      <td>83.06</td>\n      <td>83.98</td>\n      <td>94.13%</td>\n      <td>97.04%</td>\n      <td>95.59%</td>\n    </tr>\n    <tr>\n      <td>Thomas High School</td>\n      <td>Charter</td>\n      <td>1635</td>\n      <td>$1,043,130.00</td>\n      <td>$638.00</td>\n      <td>83.42</td>\n      <td>83.85</td>\n      <td>93.27%</td>\n      <td>97.31%</td>\n      <td>95.29%</td>\n    </tr>\n    <tr>\n      <td>Griffin High School</td>\n      <td>Charter</td>\n      <td>1468</td>\n      <td>$917,500.00</td>\n      <td>$625.00</td>\n      <td>83.35</td>\n      <td>83.82</td>\n      <td>93.39%</td>\n      <td>97.14%</td>\n      <td>95.27%</td>\n    </tr>\n    <tr>\n      <td>Pena High School</td>\n      <td>Charter</td>\n      <td>962</td>\n      <td>$585,858.00</td>\n      <td>$609.00</td>\n      <td>83.84</td>\n      <td>84.04</td>\n      <td>94.59%</td>\n      <td>95.95%</td>\n      <td>95.27%</td>\n    </tr>\n    <tr>\n      <td>Wilson High School</td>\n      <td>Charter</td>\n      <td>2283</td>\n      <td>$1,319,574.00</td>\n      <td>$578.00</td>\n      <td>83.27</td>\n      <td>83.99</td>\n      <td>93.87%</td>\n      <td>96.54%</td>\n      <td>95.21%</td>\n    </tr>\n  </tbody>\n</table>\n</div>",
      "text/plain": "                             Total Students   Total Budget Per Student Budget  \\\nschool_name         type                                                        \nCabrera High School Charter            1858  $1,081,356.00            $582.00   \nThomas High School  Charter            1635  $1,043,130.00            $638.00   \nGriffin High School Charter            1468    $917,500.00            $625.00   \nPena High School    Charter             962    $585,858.00            $609.00   \nWilson High School  Charter            2283  $1,319,574.00            $578.00   \n\n                            Average Math Score Average Reading Score  \\\nschool_name         type                                               \nCabrera High School Charter              83.06                 83.98   \nThomas High School  Charter              83.42                 83.85   \nGriffin High School Charter              83.35                 83.82   \nPena High School    Charter              83.84                 84.04   \nWilson High School  Charter              83.27                 83.99   \n\n                            Percentage Passing Math  \\\nschool_name         type                              \nCabrera High School Charter                  94.13%   \nThomas High School  Charter                  93.27%   \nGriffin High School Charter                  93.39%   \nPena High School    Charter                  94.59%   \nWilson High School  Charter                  93.87%   \n\n                            Percentage Passing Reading Overall Passing Rate  \nschool_name         type                                                     \nCabrera High School Charter                     97.04%               95.59%  \nThomas High School  Charter                     97.31%               95.29%  \nGriffin High School Charter                     97.14%               95.27%  \nPena High School    Charter                     95.95%               95.27%  \nWilson High School  Charter                     96.54%               95.21%  "
     },
     "execution_count": 1654,
     "metadata": {},
     "output_type": "execute_result"
    }
   ],
   "source": [
    "ranked_overall = by_school_df.sort_values('Overall Passing Rate',ascending=False)\n",
    "ranked_overall.head(5)"
   ]
  },
  {
   "cell_type": "markdown",
   "metadata": {},
   "source": [
    "## Bottom Performing Schools (By Passing Rate)"
   ]
  },
  {
   "cell_type": "markdown",
   "metadata": {},
   "source": [
    "* Sort and display the five worst-performing schools"
   ]
  },
  {
   "cell_type": "code",
   "execution_count": 1655,
   "metadata": {},
   "outputs": [
    {
     "data": {
      "text/html": "<div>\n<style scoped>\n    .dataframe tbody tr th:only-of-type {\n        vertical-align: middle;\n    }\n\n    .dataframe tbody tr th {\n        vertical-align: top;\n    }\n\n    .dataframe thead th {\n        text-align: right;\n    }\n</style>\n<table border=\"1\" class=\"dataframe\">\n  <thead>\n    <tr style=\"text-align: right;\">\n      <th></th>\n      <th></th>\n      <th>Total Students</th>\n      <th>Total Budget</th>\n      <th>Per Student Budget</th>\n      <th>Average Math Score</th>\n      <th>Average Reading Score</th>\n      <th>Percentage Passing Math</th>\n      <th>Percentage Passing Reading</th>\n      <th>Overall Passing Rate</th>\n    </tr>\n    <tr>\n      <th>school_name</th>\n      <th>type</th>\n      <th></th>\n      <th></th>\n      <th></th>\n      <th></th>\n      <th></th>\n      <th></th>\n      <th></th>\n      <th></th>\n    </tr>\n  </thead>\n  <tbody>\n    <tr>\n      <td>Rodriguez High School</td>\n      <td>District</td>\n      <td>3999</td>\n      <td>$2,547,363.00</td>\n      <td>$637.00</td>\n      <td>76.84</td>\n      <td>80.74</td>\n      <td>66.37%</td>\n      <td>80.22%</td>\n      <td>73.30%</td>\n    </tr>\n    <tr>\n      <td>Figueroa High School</td>\n      <td>District</td>\n      <td>2949</td>\n      <td>$1,884,411.00</td>\n      <td>$639.00</td>\n      <td>76.71</td>\n      <td>81.16</td>\n      <td>65.99%</td>\n      <td>80.74%</td>\n      <td>73.36%</td>\n    </tr>\n    <tr>\n      <td>Huang High School</td>\n      <td>District</td>\n      <td>2917</td>\n      <td>$1,910,635.00</td>\n      <td>$655.00</td>\n      <td>76.63</td>\n      <td>81.18</td>\n      <td>65.68%</td>\n      <td>81.32%</td>\n      <td>73.50%</td>\n    </tr>\n    <tr>\n      <td>Johnson High School</td>\n      <td>District</td>\n      <td>4761</td>\n      <td>$3,094,650.00</td>\n      <td>$650.00</td>\n      <td>77.07</td>\n      <td>80.97</td>\n      <td>66.06%</td>\n      <td>81.22%</td>\n      <td>73.64%</td>\n    </tr>\n    <tr>\n      <td>Ford High School</td>\n      <td>District</td>\n      <td>2739</td>\n      <td>$1,763,916.00</td>\n      <td>$644.00</td>\n      <td>77.10</td>\n      <td>80.75</td>\n      <td>68.31%</td>\n      <td>79.30%</td>\n      <td>73.81%</td>\n    </tr>\n  </tbody>\n</table>\n</div>",
      "text/plain": "                                Total Students   Total Budget  \\\nschool_name           type                                      \nRodriguez High School District            3999  $2,547,363.00   \nFigueroa High School  District            2949  $1,884,411.00   \nHuang High School     District            2917  $1,910,635.00   \nJohnson High School   District            4761  $3,094,650.00   \nFord High School      District            2739  $1,763,916.00   \n\n                               Per Student Budget Average Math Score  \\\nschool_name           type                                             \nRodriguez High School District            $637.00              76.84   \nFigueroa High School  District            $639.00              76.71   \nHuang High School     District            $655.00              76.63   \nJohnson High School   District            $650.00              77.07   \nFord High School      District            $644.00              77.10   \n\n                               Average Reading Score Percentage Passing Math  \\\nschool_name           type                                                     \nRodriguez High School District                 80.74                  66.37%   \nFigueroa High School  District                 81.16                  65.99%   \nHuang High School     District                 81.18                  65.68%   \nJohnson High School   District                 80.97                  66.06%   \nFord High School      District                 80.75                  68.31%   \n\n                               Percentage Passing Reading Overall Passing Rate  \nschool_name           type                                                      \nRodriguez High School District                     80.22%               73.30%  \nFigueroa High School  District                     80.74%               73.36%  \nHuang High School     District                     81.32%               73.50%  \nJohnson High School   District                     81.22%               73.64%  \nFord High School      District                     79.30%               73.81%  "
     },
     "execution_count": 1655,
     "metadata": {},
     "output_type": "execute_result"
    }
   ],
   "source": [
    "ranked_overall = by_school_df.sort_values('Overall Passing Rate',ascending=True)\n",
    "ranked_overall.head(5)"
   ]
  },
  {
   "cell_type": "markdown",
   "metadata": {
    "collapsed": true
   },
   "source": [
    "## Math Scores by Grade"
   ]
  },
  {
   "cell_type": "markdown",
   "metadata": {},
   "source": [
    "* Create a table that lists the average Reading Score for students of each grade level (9th, 10th, 11th, 12th) at each school.\n",
    "\n",
    "  * Create a pandas series for each grade. Hint: use a conditional statement.\n",
    "  \n",
    "  * Group each series by school\n",
    "  \n",
    "  * Combine the series into a dataframe\n",
    "  \n",
    "  * Optional: give the displayed data cleaner formatting"
   ]
  },
  {
   "cell_type": "code",
   "execution_count": 1656,
   "metadata": {},
   "outputs": [
    {
     "data": {
      "text/html": "<div>\n<style scoped>\n    .dataframe tbody tr th:only-of-type {\n        vertical-align: middle;\n    }\n\n    .dataframe tbody tr th {\n        vertical-align: top;\n    }\n\n    .dataframe thead th {\n        text-align: right;\n    }\n</style>\n<table border=\"1\" class=\"dataframe\">\n  <thead>\n    <tr style=\"text-align: right;\">\n      <th></th>\n      <th>9th</th>\n      <th>10th</th>\n      <th>11th</th>\n      <th>12th</th>\n    </tr>\n  </thead>\n  <tbody>\n    <tr>\n      <td>Bailey High School</td>\n      <td>77.08</td>\n      <td>77.00</td>\n      <td>77.52</td>\n      <td>76.49</td>\n    </tr>\n    <tr>\n      <td>Cabrera High School</td>\n      <td>83.09</td>\n      <td>83.15</td>\n      <td>82.77</td>\n      <td>83.28</td>\n    </tr>\n    <tr>\n      <td>Figueroa High School</td>\n      <td>76.40</td>\n      <td>76.54</td>\n      <td>76.88</td>\n      <td>77.15</td>\n    </tr>\n    <tr>\n      <td>Ford High School</td>\n      <td>77.36</td>\n      <td>77.67</td>\n      <td>76.92</td>\n      <td>76.18</td>\n    </tr>\n    <tr>\n      <td>Griffin High School</td>\n      <td>82.04</td>\n      <td>84.23</td>\n      <td>83.84</td>\n      <td>83.36</td>\n    </tr>\n    <tr>\n      <td>Hernandez High School</td>\n      <td>77.44</td>\n      <td>77.34</td>\n      <td>77.14</td>\n      <td>77.19</td>\n    </tr>\n    <tr>\n      <td>Holden High School</td>\n      <td>83.79</td>\n      <td>83.43</td>\n      <td>85.00</td>\n      <td>82.86</td>\n    </tr>\n    <tr>\n      <td>Huang High School</td>\n      <td>77.03</td>\n      <td>75.91</td>\n      <td>76.45</td>\n      <td>77.23</td>\n    </tr>\n    <tr>\n      <td>Johnson High School</td>\n      <td>77.19</td>\n      <td>76.69</td>\n      <td>77.49</td>\n      <td>76.86</td>\n    </tr>\n    <tr>\n      <td>Pena High School</td>\n      <td>83.63</td>\n      <td>83.37</td>\n      <td>84.33</td>\n      <td>84.12</td>\n    </tr>\n    <tr>\n      <td>Rodriguez High School</td>\n      <td>76.86</td>\n      <td>76.61</td>\n      <td>76.40</td>\n      <td>77.69</td>\n    </tr>\n    <tr>\n      <td>Shelton High School</td>\n      <td>83.42</td>\n      <td>82.92</td>\n      <td>83.38</td>\n      <td>83.78</td>\n    </tr>\n    <tr>\n      <td>Thomas High School</td>\n      <td>83.59</td>\n      <td>83.09</td>\n      <td>83.50</td>\n      <td>83.50</td>\n    </tr>\n    <tr>\n      <td>Wilson High School</td>\n      <td>83.09</td>\n      <td>83.72</td>\n      <td>83.20</td>\n      <td>83.04</td>\n    </tr>\n    <tr>\n      <td>Wright High School</td>\n      <td>83.26</td>\n      <td>84.01</td>\n      <td>83.84</td>\n      <td>83.64</td>\n    </tr>\n  </tbody>\n</table>\n</div>",
      "text/plain": "                        9th  10th  11th  12th\nBailey High School    77.08 77.00 77.52 76.49\nCabrera High School   83.09 83.15 82.77 83.28\nFigueroa High School  76.40 76.54 76.88 77.15\nFord High School      77.36 77.67 76.92 76.18\nGriffin High School   82.04 84.23 83.84 83.36\nHernandez High School 77.44 77.34 77.14 77.19\nHolden High School    83.79 83.43 85.00 82.86\nHuang High School     77.03 75.91 76.45 77.23\nJohnson High School   77.19 76.69 77.49 76.86\nPena High School      83.63 83.37 84.33 84.12\nRodriguez High School 76.86 76.61 76.40 77.69\nShelton High School   83.42 82.92 83.38 83.78\nThomas High School    83.59 83.09 83.50 83.50\nWilson High School    83.09 83.72 83.20 83.04\nWright High School    83.26 84.01 83.84 83.64"
     },
     "execution_count": 1656,
     "metadata": {},
     "output_type": "execute_result"
    }
   ],
   "source": [
    "math_avg_by_school_grade = pd.DataFrame(school_data_complete.groupby([\"school_name\", \"grade\"])[\"math_score\"].mean())\n",
    "math_avg_by_school_grade.reset_index(inplace= True)\n",
    "school_mathgrade_pivot = math_avg_by_school_grade.pivot(index=\"school_name\", columns = \"grade\", values=\"math_score\")\n",
    "del school_mathgrade_pivot.index.name\n",
    "del school_mathgrade_pivot.columns.name\n",
    "school_mathgrade_pivot = school_mathgrade_pivot[[\"9th\",\"10th\",\"11th\",\"12th\"]]\n",
    "pd.options.display.float_format = '{:.2f}'.format\n",
    "# '{.2}'.format(school_grade_pivot)\n",
    "school_mathgrade_pivot\n",
    "\n"
   ]
  },
  {
   "cell_type": "markdown",
   "metadata": {},
   "source": [
    "## Reading Score by Grade "
   ]
  },
  {
   "cell_type": "markdown",
   "metadata": {},
   "source": [
    "* Perform the same operations as above for reading scores"
   ]
  },
  {
   "cell_type": "code",
   "execution_count": 1657,
   "metadata": {},
   "outputs": [
    {
     "data": {
      "text/html": "<div>\n<style scoped>\n    .dataframe tbody tr th:only-of-type {\n        vertical-align: middle;\n    }\n\n    .dataframe tbody tr th {\n        vertical-align: top;\n    }\n\n    .dataframe thead th {\n        text-align: right;\n    }\n</style>\n<table border=\"1\" class=\"dataframe\">\n  <thead>\n    <tr style=\"text-align: right;\">\n      <th></th>\n      <th>9th</th>\n      <th>10th</th>\n      <th>11th</th>\n      <th>12th</th>\n    </tr>\n  </thead>\n  <tbody>\n    <tr>\n      <td>Bailey High School</td>\n      <td>81.30</td>\n      <td>80.91</td>\n      <td>80.95</td>\n      <td>80.91</td>\n    </tr>\n    <tr>\n      <td>Cabrera High School</td>\n      <td>83.68</td>\n      <td>84.25</td>\n      <td>83.79</td>\n      <td>84.29</td>\n    </tr>\n    <tr>\n      <td>Figueroa High School</td>\n      <td>81.20</td>\n      <td>81.41</td>\n      <td>80.64</td>\n      <td>81.38</td>\n    </tr>\n    <tr>\n      <td>Ford High School</td>\n      <td>80.63</td>\n      <td>81.26</td>\n      <td>80.40</td>\n      <td>80.66</td>\n    </tr>\n    <tr>\n      <td>Griffin High School</td>\n      <td>83.37</td>\n      <td>83.71</td>\n      <td>84.29</td>\n      <td>84.01</td>\n    </tr>\n    <tr>\n      <td>Hernandez High School</td>\n      <td>80.87</td>\n      <td>80.66</td>\n      <td>81.40</td>\n      <td>80.86</td>\n    </tr>\n    <tr>\n      <td>Holden High School</td>\n      <td>83.68</td>\n      <td>83.32</td>\n      <td>83.82</td>\n      <td>84.70</td>\n    </tr>\n    <tr>\n      <td>Huang High School</td>\n      <td>81.29</td>\n      <td>81.51</td>\n      <td>81.42</td>\n      <td>80.31</td>\n    </tr>\n    <tr>\n      <td>Johnson High School</td>\n      <td>81.26</td>\n      <td>80.77</td>\n      <td>80.62</td>\n      <td>81.23</td>\n    </tr>\n    <tr>\n      <td>Pena High School</td>\n      <td>83.81</td>\n      <td>83.61</td>\n      <td>84.34</td>\n      <td>84.59</td>\n    </tr>\n    <tr>\n      <td>Rodriguez High School</td>\n      <td>80.99</td>\n      <td>80.63</td>\n      <td>80.86</td>\n      <td>80.38</td>\n    </tr>\n    <tr>\n      <td>Shelton High School</td>\n      <td>84.12</td>\n      <td>83.44</td>\n      <td>84.37</td>\n      <td>82.78</td>\n    </tr>\n    <tr>\n      <td>Thomas High School</td>\n      <td>83.73</td>\n      <td>84.25</td>\n      <td>83.59</td>\n      <td>83.83</td>\n    </tr>\n    <tr>\n      <td>Wilson High School</td>\n      <td>83.94</td>\n      <td>84.02</td>\n      <td>83.76</td>\n      <td>84.32</td>\n    </tr>\n    <tr>\n      <td>Wright High School</td>\n      <td>83.83</td>\n      <td>83.81</td>\n      <td>84.16</td>\n      <td>84.07</td>\n    </tr>\n  </tbody>\n</table>\n</div>",
      "text/plain": "                        9th  10th  11th  12th\nBailey High School    81.30 80.91 80.95 80.91\nCabrera High School   83.68 84.25 83.79 84.29\nFigueroa High School  81.20 81.41 80.64 81.38\nFord High School      80.63 81.26 80.40 80.66\nGriffin High School   83.37 83.71 84.29 84.01\nHernandez High School 80.87 80.66 81.40 80.86\nHolden High School    83.68 83.32 83.82 84.70\nHuang High School     81.29 81.51 81.42 80.31\nJohnson High School   81.26 80.77 80.62 81.23\nPena High School      83.81 83.61 84.34 84.59\nRodriguez High School 80.99 80.63 80.86 80.38\nShelton High School   84.12 83.44 84.37 82.78\nThomas High School    83.73 84.25 83.59 83.83\nWilson High School    83.94 84.02 83.76 84.32\nWright High School    83.83 83.81 84.16 84.07"
     },
     "execution_count": 1657,
     "metadata": {},
     "output_type": "execute_result"
    }
   ],
   "source": [
    "\n",
    "read_avg_by_school_grade = pd.DataFrame(school_data_complete.groupby([\"school_name\", \"grade\"])[\"reading_score\"].mean())\n",
    "read_avg_by_school_grade.reset_index(inplace= True)\n",
    "school_readgrade_pivot = read_avg_by_school_grade.pivot(index=\"school_name\", columns = \"grade\", values=\"reading_score\")\n",
    "\n",
    "del school_readgrade_pivot.index.name\n",
    "del school_readgrade_pivot.columns.name\n",
    "school_readgrade_pivot = school_readgrade_pivot[[\"9th\",\"10th\",\"11th\",\"12th\"]]\n",
    "\n",
    "pd.options.display.float_format = '{:.2f}'.format\n",
    "# school_grade_pivot.columns.sort_values()\n",
    "\n",
    "school_readgrade_pivot"
   ]
  },
  {
   "cell_type": "markdown",
   "metadata": {},
   "source": [
    "## Scores by School Spending"
   ]
  },
  {
   "cell_type": "markdown",
   "metadata": {},
   "source": [
    "* Create a table that breaks down school performances based on average Spending Ranges (Per Student). Use 4 reasonable bins to group school spending. Include in the table each of the following:\n",
    "  * Average Math Score\n",
    "  * Average Reading Score\n",
    "  * % Passing Math\n",
    "  * % Passing Reading\n",
    "  * Overall Passing Rate (Average of the above two)"
   ]
  },
  {
   "cell_type": "code",
   "execution_count": 1658,
   "metadata": {},
   "outputs": [],
   "source": [
    "spending_bins = [0, 585, 615, 645, 675]\n",
    "group_names = [\"<$585\", \"$585-615\", \"$615-645\", \"$645-675\"]"
   ]
  },
  {
   "cell_type": "code",
   "execution_count": 1659,
   "metadata": {},
   "outputs": [],
   "source": [
    "by_school_df[\"Per Student Budget\"] = by_school_df[\"Per Student Budget\"].str.strip(\"$\").astype(float)"
   ]
  },
  {
   "cell_type": "code",
   "execution_count": 1660,
   "metadata": {},
   "outputs": [],
   "source": [
    "by_school_df[\"Per Student Bin\"] = pd.cut(by_school_df[\"Per Student Budget\"], bins= spending_bins, labels=group_names) "
   ]
  },
  {
   "cell_type": "code",
   "execution_count": 1661,
   "metadata": {},
   "outputs": [
    {
     "data": {
      "text/plain": "Index(['Total Students', 'Total Budget', 'Per Student Budget',\n       'Average Math Score', 'Average Reading Score',\n       'Percentage Passing Math', 'Percentage Passing Reading',\n       'Overall Passing Rate', 'Per Student Bin'],\n      dtype='object')"
     },
     "execution_count": 1661,
     "metadata": {},
     "output_type": "execute_result"
    }
   ],
   "source": [
    "by_school_df[\"Average Reading Score\"] = by_school_df[\"Average Reading Score\"].astype(float)\n",
    "\n",
    "by_school_df[\"Average Math Score\"] = by_school_df[\"Average Math Score\"].astype(float)\n",
    "\n",
    "by_school_df[\"Percentage Passing Reading\"] = by_school_df[\"Percentage Passing Reading\"].str.strip(\"%\").astype(float)\n",
    "\n",
    "by_school_df[\"Percentage Passing Math\"] = by_school_df[\"Percentage Passing Math\"].str.strip(\"%\").astype(float)\n",
    "\n",
    "by_school_df[\"Overall Passing Rate\"] = by_school_df[\"Overall Passing Rate\"].str.strip(\"%\").astype(float)\n",
    "\n",
    "by_school_df.columns"
   ]
  },
  {
   "cell_type": "code",
   "execution_count": 1662,
   "metadata": {},
   "outputs": [
    {
     "data": {
      "text/html": "<div>\n<style scoped>\n    .dataframe tbody tr th:only-of-type {\n        vertical-align: middle;\n    }\n\n    .dataframe tbody tr th {\n        vertical-align: top;\n    }\n\n    .dataframe thead th {\n        text-align: right;\n    }\n</style>\n<table border=\"1\" class=\"dataframe\">\n  <thead>\n    <tr style=\"text-align: right;\">\n      <th></th>\n      <th>Average Math Score</th>\n      <th>Average Reading Score</th>\n      <th>Percentage Passing Math</th>\n      <th>Percentage Passing Reading</th>\n      <th>Overall Passing Rate</th>\n    </tr>\n    <tr>\n      <th>Per Student Bin</th>\n      <th></th>\n      <th></th>\n      <th></th>\n      <th></th>\n      <th></th>\n    </tr>\n  </thead>\n  <tbody>\n    <tr>\n      <td>&lt;$585</td>\n      <td>83.45</td>\n      <td>83.93</td>\n      <td>93.46</td>\n      <td>96.61</td>\n      <td>95.04</td>\n    </tr>\n    <tr>\n      <td>$585-615</td>\n      <td>83.60</td>\n      <td>83.89</td>\n      <td>94.23</td>\n      <td>95.90</td>\n      <td>95.06</td>\n    </tr>\n    <tr>\n      <td>$615-645</td>\n      <td>79.08</td>\n      <td>81.89</td>\n      <td>75.67</td>\n      <td>86.11</td>\n      <td>80.89</td>\n    </tr>\n    <tr>\n      <td>$645-675</td>\n      <td>77.00</td>\n      <td>81.03</td>\n      <td>66.16</td>\n      <td>81.13</td>\n      <td>73.65</td>\n    </tr>\n  </tbody>\n</table>\n</div>",
      "text/plain": "                 Average Math Score  Average Reading Score  \\\nPer Student Bin                                              \n<$585                         83.45                  83.93   \n$585-615                      83.60                  83.89   \n$615-645                      79.08                  81.89   \n$645-675                      77.00                  81.03   \n\n                 Percentage Passing Math  Percentage Passing Reading  \\\nPer Student Bin                                                        \n<$585                              93.46                       96.61   \n$585-615                           94.23                       95.90   \n$615-645                           75.67                       86.11   \n$645-675                           66.16                       81.13   \n\n                 Overall Passing Rate  \nPer Student Bin                        \n<$585                           95.04  \n$585-615                        95.06  \n$615-645                        80.89  \n$645-675                        73.65  "
     },
     "execution_count": 1662,
     "metadata": {},
     "output_type": "execute_result"
    }
   ],
   "source": [
    "del by_school_df[\"Total Students\"]\n",
    "del by_school_df[\"Per Student Budget\"]\n",
    "\n",
    "\n",
    "by_school_df.groupby('Per Student Bin').mean()\n"
   ]
  },
  {
   "cell_type": "markdown",
   "metadata": {},
   "source": [
    "## Scores by School Size"
   ]
  },
  {
   "cell_type": "markdown",
   "metadata": {},
   "source": [
    "* Perform the same operations as above, based on school size."
   ]
  },
  {
   "cell_type": "code",
   "execution_count": 1663,
   "metadata": {},
   "outputs": [],
   "source": [
    "# Sample bins. Feel free to create your own bins.\n",
    "size_bins = [0, 1000, 2000, 5000]\n",
    "group_names = [\"Small (<1000)\", \"Medium (1000-2000)\", \"Large (2000-5000)\"]"
   ]
  },
  {
   "cell_type": "code",
   "execution_count": 1664,
   "metadata": {},
   "outputs": [
    {
     "data": {
      "text/html": "<div>\n<style scoped>\n    .dataframe tbody tr th:only-of-type {\n        vertical-align: middle;\n    }\n\n    .dataframe tbody tr th {\n        vertical-align: top;\n    }\n\n    .dataframe thead th {\n        text-align: right;\n    }\n</style>\n<table border=\"1\" class=\"dataframe\">\n  <thead>\n    <tr style=\"text-align: right;\">\n      <th></th>\n      <th>Average Math Score</th>\n      <th>Average Reading Score</th>\n      <th>Percentage Passing Math</th>\n      <th>Percentage Passing Reading</th>\n      <th>Overall Passing Rate</th>\n    </tr>\n    <tr>\n      <th>Student Count Bin</th>\n      <th></th>\n      <th></th>\n      <th></th>\n      <th></th>\n      <th></th>\n    </tr>\n  </thead>\n  <tbody>\n    <tr>\n      <td>Small (&lt;1000)</td>\n      <td>83.82</td>\n      <td>83.93</td>\n      <td>93.55</td>\n      <td>96.10</td>\n      <td>94.82</td>\n    </tr>\n    <tr>\n      <td>Medium (1000-2000)</td>\n      <td>83.37</td>\n      <td>83.87</td>\n      <td>93.60</td>\n      <td>96.79</td>\n      <td>95.20</td>\n    </tr>\n    <tr>\n      <td>Large (2000-5000)</td>\n      <td>77.74</td>\n      <td>81.34</td>\n      <td>69.96</td>\n      <td>82.77</td>\n      <td>76.37</td>\n    </tr>\n  </tbody>\n</table>\n</div>",
      "text/plain": "                    Average Math Score  Average Reading Score  \\\nStudent Count Bin                                               \nSmall (<1000)                    83.82                  83.93   \nMedium (1000-2000)               83.37                  83.87   \nLarge (2000-5000)                77.74                  81.34   \n\n                    Percentage Passing Math  Percentage Passing Reading  \\\nStudent Count Bin                                                         \nSmall (<1000)                         93.55                       96.10   \nMedium (1000-2000)                    93.60                       96.79   \nLarge (2000-5000)                     69.96                       82.77   \n\n                    Overall Passing Rate  \nStudent Count Bin                         \nSmall (<1000)                      94.82  \nMedium (1000-2000)                 95.20  \nLarge (2000-5000)                  76.37  "
     },
     "execution_count": 1664,
     "metadata": {},
     "output_type": "execute_result"
    }
   ],
   "source": [
    "by_school_df_copy[\"Student Count Bin\"] = pd.cut(by_school_df_copy[\"Total Students\"], bins= size_bins, labels=group_names) \n",
    "\n",
    "by_school_df_copy[\"Average Reading Score\"] = by_school_df_copy[\"Average Reading Score\"].astype(float)\n",
    "\n",
    "by_school_df_copy[\"Average Math Score\"] = by_school_df_copy[\"Average Math Score\"].astype(float)\n",
    "\n",
    "by_school_df_copy[\"Percentage Passing Reading\"] = by_school_df_copy[\"Percentage Passing Reading\"].str.strip(\"%\").astype(float)\n",
    "\n",
    "by_school_df_copy[\"Percentage Passing Math\"] = by_school_df_copy[\"Percentage Passing Math\"].str.strip(\"%\").astype(float)\n",
    "\n",
    "by_school_df_copy[\"Overall Passing Rate\"] = by_school_df_copy[\"Overall Passing Rate\"].str.strip(\"%\").astype(float)\n",
    "\n",
    "del by_school_df_copy[\"Total Students\"]\n",
    "\n",
    "by_school_df_copy.groupby(\"Student Count Bin\").mean()\n"
   ]
  },
  {
   "cell_type": "markdown",
   "metadata": {},
   "source": [
    "## Scores by School Type"
   ]
  },
  {
   "cell_type": "markdown",
   "metadata": {},
   "source": [
    "* Perform the same operations as above, based on school type."
   ]
  },
  {
   "cell_type": "code",
   "execution_count": 1665,
   "metadata": {},
   "outputs": [
    {
     "data": {
      "text/html": "<div>\n<style scoped>\n    .dataframe tbody tr th:only-of-type {\n        vertical-align: middle;\n    }\n\n    .dataframe tbody tr th {\n        vertical-align: top;\n    }\n\n    .dataframe thead th {\n        text-align: right;\n    }\n</style>\n<table border=\"1\" class=\"dataframe\">\n  <thead>\n    <tr style=\"text-align: right;\">\n      <th></th>\n      <th>Average Math Score</th>\n      <th>Average Reading Score</th>\n      <th>Percentage Passing Math</th>\n      <th>Percentage Passing Reading</th>\n      <th>Overall Passing Rate</th>\n    </tr>\n    <tr>\n      <th>type</th>\n      <th></th>\n      <th></th>\n      <th></th>\n      <th></th>\n      <th></th>\n    </tr>\n  </thead>\n  <tbody>\n    <tr>\n      <td>Charter</td>\n      <td>83.47</td>\n      <td>83.90</td>\n      <td>93.62</td>\n      <td>96.59</td>\n      <td>95.11</td>\n    </tr>\n    <tr>\n      <td>District</td>\n      <td>76.96</td>\n      <td>80.97</td>\n      <td>66.55</td>\n      <td>80.80</td>\n      <td>73.68</td>\n    </tr>\n  </tbody>\n</table>\n</div>",
      "text/plain": "          Average Math Score  Average Reading Score  Percentage Passing Math  \\\ntype                                                                           \nCharter                83.47                  83.90                    93.62   \nDistrict               76.96                  80.97                    66.55   \n\n          Percentage Passing Reading  Overall Passing Rate  \ntype                                                        \nCharter                        96.59                 95.11  \nDistrict                       80.80                 73.68  "
     },
     "execution_count": 1665,
     "metadata": {},
     "output_type": "execute_result"
    }
   ],
   "source": [
    "by_school_df.groupby(\"type\").mean()\n",
    "\n",
    "\n"
   ]
  }
 ],
 "metadata": {
  "anaconda-cloud": {},
  "kernel_info": {
   "name": "python3"
  },
  "kernelspec": {
   "display_name": "Python 3",
   "language": "python",
   "name": "python3"
  },
  "language_info": {
   "codemirror_mode": {
    "name": "ipython",
    "version": 3
   },
   "file_extension": ".py",
   "mimetype": "text/x-python",
   "name": "python",
   "nbconvert_exporter": "python",
   "pygments_lexer": "ipython3",
   "version": "3.7.6-final"
  },
  "latex_envs": {
   "LaTeX_envs_menu_present": true,
   "autoclose": false,
   "autocomplete": true,
   "bibliofile": "biblio.bib",
   "cite_by": "apalike",
   "current_citInitial": 1,
   "eqLabelWithNumbers": true,
   "eqNumInitial": 1,
   "hotkeys": {
    "equation": "Ctrl-E",
    "itemize": "Ctrl-I"
   },
   "labels_anchors": false,
   "latex_user_defs": false,
   "report_style_numbering": false,
   "user_envs_cfg": false
  },
  "nteract": {
   "version": "0.8.4"
  }
 },
 "nbformat": 4,
 "nbformat_minor": 1
}