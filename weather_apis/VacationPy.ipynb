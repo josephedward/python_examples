{
 "cells": [
  {
   "cell_type": "markdown",
   "metadata": {},
   "source": [
    "# VacationPy\n",
    "----\n",
    "\n",
    "#### Note\n",
    "* Instructions have been included for each segment. You do not have to follow them exactly, but they are included to help you think through the steps."
   ]
  },
  {
   "cell_type": "code",
   "execution_count": 175,
   "metadata": {},
   "outputs": [],
   "source": [
    "# Dependencies and Setup\n",
    "import matplotlib.pyplot as plt\n",
    "import pandas as pd\n",
    "import numpy as np\n",
    "import requests\n",
    "import gmaps\n",
    "import gmaps.datasets\n",
    "import os\n",
    "import json\n",
    "\n",
    "# Import API key\n",
    "from api_keys import g_key\n"
   ]
  },
  {
   "cell_type": "markdown",
   "metadata": {},
   "source": [
    "### Store Part I results into DataFrame\n",
    "* Load the csv exported in Part I to a DataFrame"
   ]
  },
  {
   "cell_type": "code",
   "execution_count": 176,
   "metadata": {},
   "outputs": [],
   "source": [
    "# Output File (CSV)\n",
    "output_data_file = \"./output_data/weather_df.csv\"\n",
    "weather_df = pd.read_csv(output_data_file, index_col=0)"
   ]
  },
  {
   "cell_type": "markdown",
   "metadata": {},
   "source": [
    "### Humidity Heatmap\n",
    "* Configure gmaps.\n",
    "* Use the Lat and Lng as locations and Humidity as the weight.\n",
    "* Add Heatmap layer to map."
   ]
  },
  {
   "cell_type": "code",
   "execution_count": 177,
   "metadata": {},
   "outputs": [
    {
     "data": {
      "text/plain": "Index(['Unnamed: 0.1', 'City', 'Cloudiness', 'Country', 'Date', 'Humidity',\n       'Lat', 'Lng', 'Max Temp', 'Wind Speed'],\n      dtype='object')"
     },
     "execution_count": 177,
     "metadata": {},
     "output_type": "execute_result"
    }
   ],
   "source": [
    "weather_df.columns"
   ]
  },
  {
   "cell_type": "code",
   "execution_count": 178,
   "metadata": {},
   "outputs": [],
   "source": [
    "# Store latitude and longitude in locations\n",
    "locations = weather_df[['Lat','Lng']]\n"
   ]
  },
  {
   "cell_type": "code",
   "execution_count": 179,
   "metadata": {},
   "outputs": [
    {
     "data": {
      "application/vnd.jupyter.widget-view+json": {
       "model_id": "41d90dd230054930af241297bb12bf06",
       "version_major": 2,
       "version_minor": 0
      },
      "text/plain": "Figure(layout=FigureLayout(height='420px'))"
     },
     "metadata": {},
     "output_type": "display_data"
    }
   ],
   "source": [
    "fig = gmaps.figure()\n",
    "\n",
    "# Create heat layer, with humidity as weight \n",
    "heat_layer = gmaps.heatmap_layer(locations, weights=weather_df['Humidity'], dissipating=False, max_intensity=10,point_radius=1)\n",
    "\n",
    "# Add layer\n",
    "fig.add_layer(heat_layer)\n",
    "\n",
    "# Display figure\n",
    "fig"
   ]
  },
  {
   "cell_type": "markdown",
   "metadata": {},
   "source": [
    "### Create new DataFrame fitting weather criteria\n",
    "* Narrow down the cities to fit weather conditions.\n",
    "* Drop any rows will null values."
   ]
  },
  {
   "cell_type": "code",
   "execution_count": 180,
   "metadata": {},
   "outputs": [
    {
     "data": {
      "text/html": "<div>\n<style scoped>\n    .dataframe tbody tr th:only-of-type {\n        vertical-align: middle;\n    }\n\n    .dataframe tbody tr th {\n        vertical-align: top;\n    }\n\n    .dataframe thead th {\n        text-align: right;\n    }\n</style>\n<table border=\"1\" class=\"dataframe\">\n  <thead>\n    <tr style=\"text-align: right;\">\n      <th></th>\n      <th>Unnamed: 0.1</th>\n      <th>City</th>\n      <th>Cloudiness</th>\n      <th>Country</th>\n      <th>Date</th>\n      <th>Humidity</th>\n      <th>Lat</th>\n      <th>Lng</th>\n      <th>Max Temp</th>\n      <th>Wind Speed</th>\n    </tr>\n  </thead>\n  <tbody>\n    <tr>\n      <td>56</td>\n      <td>56</td>\n      <td>port alfred</td>\n      <td>0</td>\n      <td>ZA</td>\n      <td>1584193149</td>\n      <td>85</td>\n      <td>-33.59</td>\n      <td>26.89</td>\n      <td>72.00</td>\n      <td>4.00</td>\n    </tr>\n    <tr>\n      <td>79</td>\n      <td>79</td>\n      <td>molteno</td>\n      <td>0</td>\n      <td>ZA</td>\n      <td>1584193150</td>\n      <td>24</td>\n      <td>-31.40</td>\n      <td>26.36</td>\n      <td>76.55</td>\n      <td>7.25</td>\n    </tr>\n    <tr>\n      <td>208</td>\n      <td>208</td>\n      <td>langsa</td>\n      <td>0</td>\n      <td>ID</td>\n      <td>1584193158</td>\n      <td>84</td>\n      <td>4.47</td>\n      <td>97.97</td>\n      <td>78.17</td>\n      <td>3.65</td>\n    </tr>\n    <tr>\n      <td>222</td>\n      <td>222</td>\n      <td>awjilah</td>\n      <td>0</td>\n      <td>LY</td>\n      <td>1584193159</td>\n      <td>21</td>\n      <td>29.11</td>\n      <td>21.29</td>\n      <td>76.73</td>\n      <td>8.95</td>\n    </tr>\n    <tr>\n      <td>308</td>\n      <td>308</td>\n      <td>emerald</td>\n      <td>0</td>\n      <td>AU</td>\n      <td>1584193043</td>\n      <td>56</td>\n      <td>-23.53</td>\n      <td>148.17</td>\n      <td>71.60</td>\n      <td>8.05</td>\n    </tr>\n    <tr>\n      <td>338</td>\n      <td>338</td>\n      <td>montemor-o-novo</td>\n      <td>0</td>\n      <td>PT</td>\n      <td>1584193165</td>\n      <td>64</td>\n      <td>38.65</td>\n      <td>-8.21</td>\n      <td>79.00</td>\n      <td>4.70</td>\n    </tr>\n    <tr>\n      <td>409</td>\n      <td>409</td>\n      <td>rajpur</td>\n      <td>0</td>\n      <td>IN</td>\n      <td>1584193169</td>\n      <td>15</td>\n      <td>22.30</td>\n      <td>74.35</td>\n      <td>71.87</td>\n      <td>9.55</td>\n    </tr>\n    <tr>\n      <td>416</td>\n      <td>416</td>\n      <td>lata</td>\n      <td>0</td>\n      <td>PT</td>\n      <td>1584193170</td>\n      <td>63</td>\n      <td>40.16</td>\n      <td>-8.33</td>\n      <td>75.00</td>\n      <td>8.05</td>\n    </tr>\n    <tr>\n      <td>485</td>\n      <td>485</td>\n      <td>balaipungut</td>\n      <td>0</td>\n      <td>ID</td>\n      <td>1584193173</td>\n      <td>88</td>\n      <td>1.05</td>\n      <td>101.28</td>\n      <td>74.75</td>\n      <td>2.80</td>\n    </tr>\n    <tr>\n      <td>490</td>\n      <td>490</td>\n      <td>scicli</td>\n      <td>0</td>\n      <td>IT</td>\n      <td>1584193174</td>\n      <td>33</td>\n      <td>36.79</td>\n      <td>14.70</td>\n      <td>73.40</td>\n      <td>9.17</td>\n    </tr>\n    <tr>\n      <td>509</td>\n      <td>509</td>\n      <td>trincomalee</td>\n      <td>0</td>\n      <td>LK</td>\n      <td>1584193175</td>\n      <td>87</td>\n      <td>8.57</td>\n      <td>81.23</td>\n      <td>72.77</td>\n      <td>2.73</td>\n    </tr>\n  </tbody>\n</table>\n</div>",
      "text/plain": "     Unnamed: 0.1             City  Cloudiness Country        Date  Humidity  \\\n56             56      port alfred           0      ZA  1584193149        85   \n79             79          molteno           0      ZA  1584193150        24   \n208           208           langsa           0      ID  1584193158        84   \n222           222          awjilah           0      LY  1584193159        21   \n308           308          emerald           0      AU  1584193043        56   \n338           338  montemor-o-novo           0      PT  1584193165        64   \n409           409           rajpur           0      IN  1584193169        15   \n416           416             lata           0      PT  1584193170        63   \n485           485      balaipungut           0      ID  1584193173        88   \n490           490           scicli           0      IT  1584193174        33   \n509           509      trincomalee           0      LK  1584193175        87   \n\n       Lat     Lng  Max Temp  Wind Speed  \n56  -33.59   26.89     72.00        4.00  \n79  -31.40   26.36     76.55        7.25  \n208   4.47   97.97     78.17        3.65  \n222  29.11   21.29     76.73        8.95  \n308 -23.53  148.17     71.60        8.05  \n338  38.65   -8.21     79.00        4.70  \n409  22.30   74.35     71.87        9.55  \n416  40.16   -8.33     75.00        8.05  \n485   1.05  101.28     74.75        2.80  \n490  36.79   14.70     73.40        9.17  \n509   8.57   81.23     72.77        2.73  "
     },
     "execution_count": 180,
     "metadata": {},
     "output_type": "execute_result"
    }
   ],
   "source": [
    "criteria_df = weather_df[(weather_df['Max Temp']>=70) & (weather_df['Max Temp']<=80) & (weather_df['Wind Speed'] <=10) & (weather_df['Cloudiness']== 0) ]\n",
    "# criteria_df.drop('Unnamed: 0', axis=1)\n",
    "criteria_df\n"
   ]
  },
  {
   "cell_type": "markdown",
   "metadata": {},
   "source": [
    "### Hotel Map\n",
    "* Store into variable named `hotel_df`.\n",
    "* Add a \"Hotel Name\" column to the DataFrame.\n",
    "* Set parameters to search for hotels with 5000 meters.\n",
    "* Hit the Google Places API for each city's coordinates.\n",
    "* Store the first Hotel result into the DataFrame.\n",
    "* Plot markers on top of the heatmap."
   ]
  },
  {
   "cell_type": "code",
   "execution_count": 181,
   "metadata": {},
   "outputs": [
    {
     "name": "stdout",
     "output_type": "stream",
     "text": "PqBjkNEhClGmT5-qHcg7MU_xNYYdc6GhSi_DNw_jP9Gz1CvxiYhEBfV9-c4w\",\n                    \"width\": 2048\n                }\n            ],\n            \"place_id\": \"ChIJHxLY_E-8-zoR-tPXKwfQj1Q\",\n            \"plus_code\": {\n                \"compound_code\": \"J689+25 Trincomalee, Sri Lanka\",\n                \"global_code\": \"6MW3J689+25\"\n            },\n            \"rating\": 4.2,\n            \"reference\": \"ChIJHxLY_E-8-zoR-tPXKwfQj1Q\",\n            \"scope\": \"GOOGLE\",\n            \"types\": [\n                \"lodging\",\n                \"point_of_interest\",\n                \"establishment\"\n            ],\n            \"user_ratings_total\": 284,\n            \"vicinity\": \"07(42) Alles Garden, Trincomalee\"\n        },\n        {\n            \"geometry\": {\n                \"location\": {\n                    \"lat\": 8.610962599999999,\n                    \"lng\": 81.2151023\n                },\n                \"viewport\": {\n                    \"northeast\": {\n                        \"lat\": 8.61225637989272,\n                        \"lng\": 81.21649062989272\n                    },\n                    \"southwest\": {\n                        \"lat\": 8.609556720107276,\n                        \"lng\": 81.21379097010728\n                    }\n                }\n            },\n            \"icon\": \"https://maps.gstatic.com/mapfiles/place_api/icons/lodging-71.png\",\n            \"id\": \"43f13064c8484a8f43fd997af5c567bf607785ea\",\n            \"name\": \"Hotel Sun Blue\",\n            \"opening_hours\": {\n                \"open_now\": true\n            },\n            \"photos\": [\n                {\n                    \"height\": 3840,\n                    \"html_attributions\": [\n                        \"<a href=\\\"https://maps.google.com/maps/contrib/105588638218960304544\\\">A Google User</a>\"\n                    ],\n                    \"photo_reference\": \"CmRaAAAATulhCqTBRJ3tIrs18gpX8HowwSV3AYjztgPiJEJCEkYXwdo_6GMnr3LBU9f_q1iM-cZ75p2joZnBsZBCajzsHbTTs0Jar1Kf_nmWqOTKqGfGmvrmlsZ4PyPMY53U8KOBEhAKb-j19CtFpEbApkh1sri7GhRcJO8WJgiSJBNTM17H2WilCyk_ZA\",\n                    \"width\": 5760\n                }\n            ],\n            \"place_id\": \"ChIJv539bIG9-zoR8iuSytQY2Cc\",\n            \"plus_code\": {\n                \"compound_code\": \"J668+92 Trincomalee, Sri Lanka\",\n                \"global_code\": \"6MW3J668+92\"\n            },\n            \"rating\": 4.7,\n            \"reference\": \"ChIJv539bIG9-zoR8iuSytQY2Cc\",\n            \"scope\": \"GOOGLE\",\n            \"types\": [\n                \"lodging\",\n                \"point_of_interest\",\n                \"establishment\"\n            ],\n            \"user_ratings_total\": 3,\n            \"vicinity\": \"8/16A,New Road,Alesgarden\"\n        },\n        {\n            \"geometry\": {\n                \"location\": {\n                    \"lat\": 8.611581600000001,\n                    \"lng\": 81.2172459\n                },\n                \"viewport\": {\n                    \"northeast\": {\n                        \"lat\": 8.612652979892722,\n                        \"lng\": 81.21797677989272\n                    },\n                    \"southwest\": {\n                        \"lat\": 8.609953320107278,\n                        \"lng\": 81.21527712010727\n                    }\n                }\n            },\n            \"icon\": \"https://maps.gstatic.com/mapfiles/place_api/icons/lodging-71.png\",\n            \"id\": \"487d97010814408bdde5d7d875cbb6bf3804edcf\",\n            \"name\": \"MRD Beach Hotel\",\n            \"opening_hours\": {\n                \"open_now\": false\n            },\n            \"photos\": [\n                {\n                    \"height\": 3671,\n                    \"html_attributions\": [\n                        \"<a href=\\\"https://maps.google.com/maps/contrib/110854998408747915957\\\">A Google User</a>\"\n                    ],\n                    \"photo_reference\": \"CmRaAAAAWbZ4t7c2AkAs-wdd4KiK6AH28K8iFkA7vICA_jwgKR32HXtCS1GaE9AyjP0ByCxifqAHvjU-qyjjG6mWNZkHVJLgejVGp2-dtFaHNKrk8F_uGe4b6MA03-Glul1zPLgrEhDn7AJ0c2oV6KrJ8PH0YuoqGhRYr10lADhVupV3mX0Kzh9rb4myNg\",\n                    \"width\": 4097\n                }\n            ],\n            \"place_id\": \"ChIJ99S1-re9-zoRTmUvQdYyJzI\",\n            \"plus_code\": {\n                \"compound_code\": \"J668+JV Trincomalee, Sri Lanka\",\n                \"global_code\": \"6MW3J668+JV\"\n            },\n            \"rating\": 5,\n            \"reference\": \"ChIJ99S1-re9-zoRTmUvQdYyJzI\",\n            \"scope\": \"GOOGLE\",\n            \"types\": [\n                \"lodging\",\n                \"point_of_interest\",\n                \"establishment\"\n            ],\n            \"user_ratings_total\": 7,\n            \"vicinity\": \"178/11 Nilaveli Rd, Alesgarden\"\n        },\n        {\n            \"geometry\": {\n                \"location\": {\n                    \"lat\": 8.613727299999999,\n                    \"lng\": 81.21616619999999\n                },\n                \"viewport\": {\n                    \"northeast\": {\n                        \"lat\": 8.61508537989272,\n                        \"lng\": 81.21752267989271\n                    },\n                    \"southwest\": {\n                        \"lat\": 8.612385720107277,\n                        \"lng\": 81.21482302010726\n                    }\n                }\n            },\n            \"icon\": \"https://maps.gstatic.com/mapfiles/place_api/icons/lodging-71.png\",\n            \"id\": \"659cbce05ccc737517c40fe862f5798d717d15ae\",\n            \"name\": \"Silaa Cabana\",\n            \"opening_hours\": {\n                \"open_now\": true\n            },\n            \"photos\": [\n                {\n                    \"height\": 2448,\n                    \"html_attributions\": [\n                        \"<a href=\\\"https://maps.google.com/maps/contrib/101251709702400005644\\\">sinesh perera</a>\"\n                    ],\n                    \"photo_reference\": \"CmRaAAAAZbRuyxxeH9a5r8K-hhNiMbk75TxwZeLsXYfioLTgsuAVsaJGT7blpGtyONuTLGMV0LWdAiuj3LNsrSreLeR8TdpsWfqS9bup6GxXqeAj3xudO9OmLC5IL4AdWBtjCjefEhCNoY8WfwKyDcBOg9Vuxa6pGhRyHjmapsXjniZ1a65kMqLOxVUqjw\",\n                    \"width\": 3264\n                }\n            ],\n            \"place_id\": \"ChIJp1kyzFG8-zoRXaWtYnvq5XA\",\n            \"plus_code\": {\n                \"compound_code\": \"J678+FF Trincomalee, Sri Lanka\",\n                \"global_code\": \"6MW3J678+FF\"\n            },\n            \"rating\": 4.5,\n            \"reference\": \"ChIJp1kyzFG8-zoRXaWtYnvq5XA\",\n            \"scope\": \"GOOGLE\",\n            \"types\": [\n                \"lodging\",\n                \"point_of_interest\",\n                \"establishment\"\n            ],\n            \"user_ratings_total\": 41,\n            \"vicinity\": \"8\\u00b036'48. 81\\u00b012'56., 7B 8th Ln, Colombo\"\n        },\n        {\n            \"geometry\": {\n                \"location\": {\n                    \"lat\": 8.6116159,\n                    \"lng\": 81.2159475\n                },\n                \"viewport\": {\n                    \"northeast\": {\n                        \"lat\": 8.612919079892722,\n                        \"lng\": 81.21720352989271\n                    },\n                    \"southwest\": {\n                        \"lat\": 8.610219420107278,\n                        \"lng\": 81.21450387010728\n                    }\n                }\n            },\n            \"icon\": \"https://maps.gstatic.com/mapfiles/place_api/icons/lodging-71.png\",\n            \"id\": \"70fc3efd388e52eac4fcba62b11dd0c223aca3e7\",\n            \"name\": \"Bluewater Beach Resort\",\n            \"photos\": [\n                {\n                    \"height\": 2240,\n                    \"html_attributions\": [\n                        \"<a href=\\\"https://maps.google.com/maps/contrib/116341471740068542994\\\">Bimal N</a>\"\n                    ],\n                    \"photo_reference\": \"CmRaAAAAj2MjOUtxi5-lIbyfjXh6RuYWTbhkTq2zjyxN-uHfGNo9_ryN-o9GQvuIC9L42DyW-ugt9m-31V8B6MWPiDRAGSZIEsHiK_hXoKik-wmidHIvbeB7vv0EODiERGmOwbKjEhB1lv8arLXouvZLLRJ_grK7GhTJxCmfsZMroL5_MmK2raRPvAyvqw\",\n                    \"width\": 4608\n                }\n            ],\n            \"place_id\": \"ChIJDSQmwlG8-zoRW7Gga87Uodw\",\n            \"plus_code\": {\n                \"compound_code\": \"J668+J9 Trincomalee, Sri Lanka\",\n                \"global_code\": \"6MW3J668+J9\"\n            },\n            \"rating\": 4.1,\n            \"reference\": \"ChIJDSQmwlG8-zoRW7Gga87Uodw\",\n            \"scope\": \"GOOGLE\",\n            \"types\": [\n                \"lodging\",\n                \"point_of_interest\",\n                \"establishment\"\n            ],\n            \"user_ratings_total\": 75,\n            \"vicinity\": \"182 Nilaveli Road, Ales Garden, Trincomalee\"\n        },\n        {\n            \"geometry\": {\n                \"location\": {\n                    \"lat\": 8.5939893,\n                    \"lng\": 81.2167535\n                },\n                \"viewport\": {\n                    \"northeast\": {\n                        \"lat\": 8.595216079892722,\n                        \"lng\": 81.21835192989272\n                    },\n                    \"southwest\": {\n                        \"lat\": 8.592516420107279,\n                        \"lng\": 81.21565227010728\n                    }\n                }\n            },\n            \"icon\": \"https://maps.gstatic.com/mapfiles/place_api/icons/lodging-71.png\",\n            \"id\": \"bb92be6e1585676d67eb58987ea24e8eb1c6ad4f\",\n            \"name\": \"JKAB Park Hotel\",\n            \"opening_hours\": {\n                \"open_now\": true\n            },\n            \"photos\": [\n                {\n                    \"height\": 1365,\n                    \"html_attributions\": [\n                        \"<a href=\\\"https://maps.google.com/maps/contrib/112019129689198552773\\\">JKAB PARK HOTEL</a>\"\n                    ],\n                    \"photo_reference\": \"CmRaAAAAUdyEeF98ucawwIJZRE2FbXYoXQCQN8_2TFs-6oU7SoNFMD0raBjw2zpmYMWcYrimYMtFvfuiA5OqH6UbQ1MDAZOS97A_x2WtHdRk4qTJMUvIlNaM5aijpr8pa6EmKU4mEhCxPyZTwHskxMHNsj8vjoKcGhRfmIUsGkcWsYjyk0jah3BJ5IDlhw\",\n                    \"width\": 2048\n                }\n            ],\n            \"place_id\": \"ChIJG4gr3fq8-zoRZPVKFm_7V_8\",\n            \"plus_code\": {\n                \"compound_code\": \"H6V8+HP Trincomalee, Sri Lanka\",\n                \"global_code\": \"6MW3H6V8+HP\"\n            },\n            \"rating\": 3.8,\n            \"reference\": \"ChIJG4gr3fq8-zoRZPVKFm_7V_8\",\n            \"scope\": \"GOOGLE\",\n            \"types\": [\n                \"lodging\",\n                \"restaurant\",\n                \"food\",\n                \"gym\",\n                \"health\",\n                \"point_of_interest\",\n                \"establishment\"\n            ],\n            \"user_ratings_total\": 361,\n            \"vicinity\": \"No 93,Love Lane, Nilaveli Rd, Trincomalee\"\n        },\n        {\n            \"geometry\": {\n                \"location\": {\n                    \"lat\": 8.606469200000001,\n                    \"lng\": 81.2187302\n                },\n                \"viewport\": {\n                    \"northeast\": {\n                        \"lat\": 8.607803929892722,\n                        \"lng\": 81.22002637989272\n                    },\n                    \"southwest\": {\n                        \"lat\": 8.605104270107278,\n                        \"lng\": 81.21732672010727\n                    }\n                }\n            },\n            \"icon\": \"https://maps.gstatic.com/mapfiles/place_api/icons/lodging-71.png\",\n            \"id\": \"29135d091280b811f96ce97c7b58812e1be8e55e\",\n            \"name\": \"Dots Bay Beach Cabana\",\n            \"opening_hours\": {\n                \"open_now\": true\n            },\n            \"photos\": [\n                {\n                    \"height\": 618,\n                    \"html_attributions\": [\n                        \"<a href=\\\"https://maps.google.com/maps/contrib/103589516373913316360\\\">A Google User</a>\"\n                    ],\n                    \"photo_reference\": \"CmRaAAAAvt4pwudB0FGTawy_e9Vf0hSpEMp3zEH6Ye1Q1Ja8Y5V-zJ5Z0lIAzKVZy5Iqdm7jKhPEMj94zLDCPTm_UyXuz4Ctkp7JYGRzHbrfwEQ6Ee88Oo3FFT7-eCdyFu9MM5r_EhDvJ-JGS_1bffyKsBa-zkPhGhRQtXWVcZIrZAw-86DdIVlo0uXR8Q\",\n                    \"width\": 1099\n                }\n            ],\n            \"place_id\": \"ChIJSyNlLmq9-zoRyddo4SRQaYs\",\n            \"plus_code\": {\n                \"compound_code\": \"J649+HF Trincomalee, Sri Lanka\",\n                \"global_code\": \"6MW3J649+HF\"\n            },\n            \"rating\": 4.6,\n            \"reference\": \"ChIJSyNlLmq9-zoRyddo4SRQaYs\",\n            \"scope\": \"GOOGLE\",\n            \"types\": [\n                \"lodging\",\n                \"point_of_interest\",\n                \"establishment\"\n            ],\n            \"user_ratings_total\": 11,\n            \"vicinity\": \"132, 82 anandavinayagrvidi, Trincomalee\"\n        },\n        {\n            \"geometry\": {\n                \"location\": {\n                    \"lat\": 8.607320399999999,\n                    \"lng\": 81.2180169\n                },\n                \"viewport\": {\n                    \"northeast\": {\n                        \"lat\": 8.60871582989272,\n                        \"lng\": 81.21930037989272\n                    },\n                    \"southwest\": {\n                        \"lat\": 8.606016170107276,\n                        \"lng\": 81.21660072010728\n                    }\n                }\n            },\n            \"icon\": \"https://maps.gstatic.com/mapfiles/place_api/icons/lodging-71.png\",\n            \"id\": \"90537a6156f0f74da46ee662da8afaf190a38be3\",\n            \"name\": \"Surf Reef Dive Beach Palace\",\n            \"opening_hours\": {\n                \"open_now\": true\n            },\n            \"photos\": [\n                {\n                    \"height\": 3456,\n                    \"html_attributions\": [\n                        \"<a href=\\\"https://maps.google.com/maps/contrib/101992462274317535372\\\">A Google User</a>\"\n                    ],\n                    \"photo_reference\": \"CmRaAAAAJZ8BXsB4JFAzWFfQlyy65mdWQDQDboHwwZAg6Fgn7G417tBPst0hHnDe8lMMP5zOWfRPstUdGlE75Pv794F6ZPxB6vtnLEHpPWaNt1G7-BhgLoaLL5raWPzD99Zefx1XEhB2dGUDPtmFjUnXZNEvWchQGhQA7PBTbzOw6qHBIslxaMl_qHI32Q\",\n                    \"width\": 4608\n                }\n            ],\n            \"place_id\": \"ChIJ-WomDnO9-zoR8DHKAxdwN3I\",\n            \"plus_code\": {\n                \"compound_code\": \"J649+W6 Trincomalee, Sri Lanka\",\n                \"global_code\": \"6MW3J649+W6\"\n            },\n            \"rating\": 4.7,\n            \"reference\": \"ChIJ-WomDnO9-zoR8DHKAxdwN3I\",\n            \"scope\": \"GOOGLE\",\n            \"types\": [\n                \"lodging\",\n                \"point_of_interest\",\n                \"establishment\"\n            ],\n            \"user_ratings_total\": 24,\n            \"vicinity\": \"132, 112 Anandavinayagar vidi, Trincomalee\"\n        },\n        {\n            \"geometry\": {\n                \"location\": {\n                    \"lat\": 8.615098999999999,\n                    \"lng\": 81.2161222\n                },\n                \"viewport\": {\n                    \"northeast\": {\n                        \"lat\": 8.616456879892722,\n                        \"lng\": 81.21739102989272\n                    },\n                    \"southwest\": {\n                        \"lat\": 8.613757220107278,\n                        \"lng\": 81.21469137010727\n                    }\n                }\n            },\n            \"icon\": \"https://maps.gstatic.com/mapfiles/place_api/icons/lodging-71.png\",\n            \"id\": \"cae296d0af19063f1905c6bc438b85bfb84d0744\",\n            \"name\": \"Hotel Alas Garden\",\n            \"opening_hours\": {\n                \"open_now\": true\n            },\n            \"photos\": [\n                {\n                    \"height\": 1536,\n                    \"html_attributions\": [\n                        \"<a href=\\\"https://maps.google.com/maps/contrib/109556619864418748696\\\">Pushpa Kumari</a>\"\n                    ],\n                    \"photo_reference\": \"CmRaAAAA27SyS3xttdnuxa55q1Fw2YfKMkOsooRwnbGmEtnb_Z2hgu1d5s2O_NoUhjcp9rwFcFfqA9lWW9FDDEDhZHsfrmcvCUB_V_fr1bOz-3BGq5yiXrROLLtIjzGmvA82lSzuEhCpmvOpYo37IUhAUzCYHSPCGhSD3NsBPIUlhBRVgBCsueCtP-cWVg\",\n                    \"width\": 2560\n                }\n            ],\n            \"place_id\": \"ChIJX5F6nY69-zoRAfbDjkyJRAU\",\n            \"plus_code\": {\n                \"compound_code\": \"J688+2C Trincomalee, Sri Lanka\",\n                \"global_code\": \"6MW3J688+2C\"\n            },\n            \"rating\": 4.1,\n            \"reference\": \"ChIJX5F6nY69-zoRAfbDjkyJRAU\",\n            \"scope\": \"GOOGLE\",\n            \"types\": [\n                \"lodging\",\n                \"point_of_interest\",\n                \"establishment\"\n            ],\n            \"user_ratings_total\": 43,\n            \"vicinity\": \"No 01 Beach Road Alesgarden, Trincomalee\"\n        },\n        {\n            \"geometry\": {\n                \"location\": {\n                    \"lat\": 8.5968892,\n                    \"lng\": 81.22272009999999\n                },\n                \"viewport\": {\n                    \"northeast\": {\n                        \"lat\": 8.598243129892722,\n                        \"lng\": 81.22407502989273\n                    },\n                    \"southwest\": {\n                        \"lat\": 8.595543470107279,\n                        \"lng\": 81.22137537010728\n                    }\n                }\n            },\n            \"icon\": \"https://maps.gstatic.com/mapfiles/place_api/icons/lodging-71.png\",\n            \"id\": \"5f2800ee2abc73ad694df2791cfc3a73eabdf35d\",\n            \"name\": \"BLUE WINGS BEACH HOTEL\",\n            \"photos\": [\n                {\n                    \"height\": 3456,\n                    \"html_attributions\": [\n                        \"<a href=\\\"https://maps.google.com/maps/contrib/103170637305967140120\\\">amarnath ms</a>\"\n                    ],\n                    \"photo_reference\": \"CmRaAAAAkrwRcCI1w5JjmUN9Gm8Hr7cY_KsdtN1NujrGWIYlopi2xfUWPnH4kY3aa5ooR0fpwAWBdW2ZR3RDA0Y2CVd01YxHEsvO9dQ-OrNu1LG1e6vvHIiZLCIF8CmLF369XPMIEhBxDrtv-txk4hJdChLesYz3GhQLuYUQf9ybuzsVAr1qmsaiURV-vQ\",\n                    \"width\": 4608\n                }\n            ],\n            \"place_id\": \"ChIJtQohPvG8-zoRmPBIh-sp5SY\",\n            \"plus_code\": {\n                \"compound_code\": \"H6WF+Q3 Trincomalee, Sri Lanka\",\n                \"global_code\": \"6MW3H6WF+Q3\"\n            },\n            \"rating\": 4.7,\n            \"reference\": \"ChIJtQohPvG8-zoRmPBIh-sp5SY\",\n            \"scope\": \"GOOGLE\",\n            \"types\": [\n                \"lodging\",\n                \"point_of_interest\",\n                \"establishment\"\n            ],\n            \"user_ratings_total\": 93,\n            \"vicinity\": \"32/5, Trincomalee\"\n        },\n        {\n            \"geometry\": {\n                \"location\": {\n                    \"lat\": 8.6143848,\n                    \"lng\": 81.21709729999999\n                },\n                \"viewport\": {\n                    \"northeast\": {\n                        \"lat\": 8.61573797989272,\n                        \"lng\": 81.21844927989271\n                    },\n                    \"southwest\": {\n                        \"lat\": 8.613038320107275,\n                        \"lng\": 81.21574962010727\n                    }\n                }\n            },\n            \"icon\": \"https://maps.gstatic.com/mapfiles/place_api/icons/lodging-71.png\",\n            \"id\": \"3187ee95cbfdc9b4570c2d10d274bd41684c6e0f\",\n            \"name\": \"Blue Blu Resort\",\n            \"photos\": [\n                {\n                    \"height\": 4032,\n                    \"html_attributions\": [\n                        \"<a href=\\\"https://maps.google.com/maps/contrib/110549973277491887399\\\">Kristjan Keres</a>\"\n                    ],\n                    \"photo_reference\": \"CmRaAAAAZ1dA2r_ytKJKBygVlof29LthTVk7Ujs28GG8P4t0Sn0gqOH3_ldkRU16KORWXg7wwbCki6_es0lzh8N6IA0mhrDqYO30qg1UjB0SipPsU5bX215Sr11RM1j-UbNBoMgBEhDPJZ2kCL6QdBCQFwkqh6C7GhQsmlfVm2CpqN88PHyBJo9qj1CZxw\",\n                    \"width\": 3024\n                }\n            ],\n            \"place_id\": \"ChIJdza-hE-8-zoRMkWNdbtHZ7Y\",\n            \"plus_code\": {\n                \"compound_code\": \"J678+QR Trincomalee, Sri Lanka\",\n                \"global_code\": \"6MW3J678+QR\"\n            },\n            \"rating\": 4.5,\n            \"reference\": \"ChIJdza-hE-8-zoRMkWNdbtHZ7Y\",\n            \"scope\": \"GOOGLE\",\n            \"types\": [\n                \"lodging\",\n                \"point_of_interest\",\n                \"establishment\"\n            ],\n            \"user_ratings_total\": 36,\n            \"vicinity\": \"13A, Beach Road, Alles Garden\"\n        }\n    ],\n    \"status\": \"OK\"\n}\n"
    }
   ],
   "source": [
    "\n",
    "hotel_df = criteria_df.reset_index(drop=True)\n",
    "\n",
    "hotel_df[\"Hotel Name\"] = \"\"\n",
    "\n",
    "params = {\n",
    "    \"radius\": 5000,\n",
    "    \"types\": \"hotel\",\n",
    "    \"keyword\": \"hotels\",\n",
    "    \"key\": g_key\n",
    "}\n",
    "\n",
    "for index, row in hotel_df.iterrows():\n",
    "    \n",
    "    # get lat, lng \n",
    "    lat = row[\"Lat\"]\n",
    "    lng = row[\"Lng\"]\n",
    "    \n",
    "    params[\"location\"] = f\"{lat},{lng}\"\n",
    "    \n",
    "    base_url = \"https://maps.googleapis.com/maps/api/place/nearbysearch/json\"\n",
    "    \n",
    "    hotel_name = requests.get(base_url, params=params)\n",
    "    \n",
    "    hotel_name = hotel_name.json()\n",
    "    print(json.dumps(hotel_name, indent=4, sort_keys=True))\n",
    "    \n",
    "    try:\n",
    "        hotel_df.loc[index, \"Hotel Name\"] = hotel_name[\"results\"][0][\"name\"]\n",
    "    except (KeyError, IndexError):\n",
    "        print(\"Missing field/result... skipping.\")"
   ]
  },
  {
   "cell_type": "code",
   "execution_count": 182,
   "metadata": {},
   "outputs": [
    {
     "data": {
      "text/html": "<div>\n<style scoped>\n    .dataframe tbody tr th:only-of-type {\n        vertical-align: middle;\n    }\n\n    .dataframe tbody tr th {\n        vertical-align: top;\n    }\n\n    .dataframe thead th {\n        text-align: right;\n    }\n</style>\n<table border=\"1\" class=\"dataframe\">\n  <thead>\n    <tr style=\"text-align: right;\">\n      <th></th>\n      <th>Unnamed: 0.1</th>\n      <th>City</th>\n      <th>Cloudiness</th>\n      <th>Country</th>\n      <th>Date</th>\n      <th>Humidity</th>\n      <th>Lat</th>\n      <th>Lng</th>\n      <th>Max Temp</th>\n      <th>Wind Speed</th>\n      <th>Hotel Name</th>\n    </tr>\n  </thead>\n  <tbody>\n    <tr>\n      <td>0</td>\n      <td>56</td>\n      <td>port alfred</td>\n      <td>0</td>\n      <td>ZA</td>\n      <td>1584193149</td>\n      <td>85</td>\n      <td>-33.59</td>\n      <td>26.89</td>\n      <td>72.00</td>\n      <td>4.00</td>\n      <td>The Beach House</td>\n    </tr>\n    <tr>\n      <td>1</td>\n      <td>79</td>\n      <td>molteno</td>\n      <td>0</td>\n      <td>ZA</td>\n      <td>1584193150</td>\n      <td>24</td>\n      <td>-31.40</td>\n      <td>26.36</td>\n      <td>76.55</td>\n      <td>7.25</td>\n      <td>Molteno Guesthouse</td>\n    </tr>\n    <tr>\n      <td>2</td>\n      <td>208</td>\n      <td>langsa</td>\n      <td>0</td>\n      <td>ID</td>\n      <td>1584193158</td>\n      <td>84</td>\n      <td>4.47</td>\n      <td>97.97</td>\n      <td>78.17</td>\n      <td>3.65</td>\n      <td>RedDoorz Syariah near Universitas Samudera Langsa</td>\n    </tr>\n    <tr>\n      <td>3</td>\n      <td>222</td>\n      <td>awjilah</td>\n      <td>0</td>\n      <td>LY</td>\n      <td>1584193159</td>\n      <td>21</td>\n      <td>29.11</td>\n      <td>21.29</td>\n      <td>76.73</td>\n      <td>8.95</td>\n      <td></td>\n    </tr>\n    <tr>\n      <td>4</td>\n      <td>308</td>\n      <td>emerald</td>\n      <td>0</td>\n      <td>AU</td>\n      <td>1584193043</td>\n      <td>56</td>\n      <td>-23.53</td>\n      <td>148.17</td>\n      <td>71.60</td>\n      <td>8.05</td>\n      <td>Village National Pritchard Road Country Resort</td>\n    </tr>\n    <tr>\n      <td>5</td>\n      <td>338</td>\n      <td>montemor-o-novo</td>\n      <td>0</td>\n      <td>PT</td>\n      <td>1584193165</td>\n      <td>64</td>\n      <td>38.65</td>\n      <td>-8.21</td>\n      <td>79.00</td>\n      <td>4.70</td>\n      <td>Palacete da Real Companhia do Cacau - Royal Co...</td>\n    </tr>\n    <tr>\n      <td>6</td>\n      <td>409</td>\n      <td>rajpur</td>\n      <td>0</td>\n      <td>IN</td>\n      <td>1584193169</td>\n      <td>15</td>\n      <td>22.30</td>\n      <td>74.35</td>\n      <td>71.87</td>\n      <td>9.55</td>\n      <td>Hotel sai kripa</td>\n    </tr>\n    <tr>\n      <td>7</td>\n      <td>416</td>\n      <td>lata</td>\n      <td>0</td>\n      <td>PT</td>\n      <td>1584193170</td>\n      <td>63</td>\n      <td>40.16</td>\n      <td>-8.33</td>\n      <td>75.00</td>\n      <td>8.05</td>\n      <td></td>\n    </tr>\n    <tr>\n      <td>8</td>\n      <td>485</td>\n      <td>balaipungut</td>\n      <td>0</td>\n      <td>ID</td>\n      <td>1584193173</td>\n      <td>88</td>\n      <td>1.05</td>\n      <td>101.28</td>\n      <td>74.75</td>\n      <td>2.80</td>\n      <td>Swee Ann Homestay</td>\n    </tr>\n    <tr>\n      <td>9</td>\n      <td>490</td>\n      <td>scicli</td>\n      <td>0</td>\n      <td>IT</td>\n      <td>1584193174</td>\n      <td>33</td>\n      <td>36.79</td>\n      <td>14.70</td>\n      <td>73.40</td>\n      <td>9.17</td>\n      <td>PALAZZO MONTALBANO</td>\n    </tr>\n    <tr>\n      <td>10</td>\n      <td>509</td>\n      <td>trincomalee</td>\n      <td>0</td>\n      <td>LK</td>\n      <td>1584193175</td>\n      <td>87</td>\n      <td>8.57</td>\n      <td>81.23</td>\n      <td>72.77</td>\n      <td>2.73</td>\n      <td>HILTON COTTAGE</td>\n    </tr>\n  </tbody>\n</table>\n</div>",
      "text/plain": "    Unnamed: 0.1             City  Cloudiness Country        Date  Humidity  \\\n0             56      port alfred           0      ZA  1584193149        85   \n1             79          molteno           0      ZA  1584193150        24   \n2            208           langsa           0      ID  1584193158        84   \n3            222          awjilah           0      LY  1584193159        21   \n4            308          emerald           0      AU  1584193043        56   \n5            338  montemor-o-novo           0      PT  1584193165        64   \n6            409           rajpur           0      IN  1584193169        15   \n7            416             lata           0      PT  1584193170        63   \n8            485      balaipungut           0      ID  1584193173        88   \n9            490           scicli           0      IT  1584193174        33   \n10           509      trincomalee           0      LK  1584193175        87   \n\n      Lat     Lng  Max Temp  Wind Speed  \\\n0  -33.59   26.89     72.00        4.00   \n1  -31.40   26.36     76.55        7.25   \n2    4.47   97.97     78.17        3.65   \n3   29.11   21.29     76.73        8.95   \n4  -23.53  148.17     71.60        8.05   \n5   38.65   -8.21     79.00        4.70   \n6   22.30   74.35     71.87        9.55   \n7   40.16   -8.33     75.00        8.05   \n8    1.05  101.28     74.75        2.80   \n9   36.79   14.70     73.40        9.17   \n10   8.57   81.23     72.77        2.73   \n\n                                           Hotel Name  \n0                                     The Beach House  \n1                                  Molteno Guesthouse  \n2   RedDoorz Syariah near Universitas Samudera Langsa  \n3                                                      \n4      Village National Pritchard Road Country Resort  \n5   Palacete da Real Companhia do Cacau - Royal Co...  \n6                                     Hotel sai kripa  \n7                                                      \n8                                   Swee Ann Homestay  \n9                                  PALAZZO MONTALBANO  \n10                                     HILTON COTTAGE  "
     },
     "execution_count": 182,
     "metadata": {},
     "output_type": "execute_result"
    }
   ],
   "source": [
    "hotel_"
   ]
  },
  {
   "cell_type": "code",
   "execution_count": 183,
   "metadata": {},
   "outputs": [],
   "source": [
    "# NOTE: Do not change any of the code in this cell\n",
    "# NOTE: At the bottom of this cell you ask us to change the code in this cell \n",
    " \n",
    "# Using the template add the hotel marks to the heatmap\n",
    "info_box_template = \"\"\"\n",
    "<dl>\n",
    "<dt>Name</dt><dd>{Hotel Name}</dd>\n",
    "<dt>City</dt><dd>{City}</dd>\n",
    "<dt>Country</dt><dd>{Country}</dd>\n",
    "</dl>\n",
    "\"\"\"\n",
    "# Store the DataFrame Row\n",
    "# NOTE: be sure to update with your DataFrame name\n",
    "hotel_info = [info_box_template.format(**row) for index, row in hotel_df.iterrows()]\n",
    "locations = hotel_df[[\"Lat\", \"Lng\"]]"
   ]
  },
  {
   "cell_type": "code",
   "execution_count": 184,
   "metadata": {},
   "outputs": [
    {
     "data": {
      "application/vnd.jupyter.widget-view+json": {
       "model_id": "41d90dd230054930af241297bb12bf06",
       "version_major": 2,
       "version_minor": 0
      },
      "text/plain": "Figure(layout=FigureLayout(height='420px'))"
     },
     "metadata": {},
     "output_type": "display_data"
    }
   ],
   "source": [
    "\n",
    "# Add marker layer ontop of heat map\n",
    "markers = gmaps.marker_layer(locations,\n",
    "    info_box_content=[f\"Hotel loc: {rate}\" for rate in hotel_info])\n",
    "\n",
    "fig.add_layer(markers)\n",
    "\n",
    "# Display Map\n",
    "fig\n"
   ]
  }
 ],
 "metadata": {
  "kernelspec": {
   "display_name": "Python 3",
   "language": "python",
   "name": "python3"
  },
  "language_info": {
   "codemirror_mode": {
    "name": "ipython",
    "version": 3
   },
   "file_extension": ".py",
   "mimetype": "text/x-python",
   "name": "python",
   "nbconvert_exporter": "python",
   "pygments_lexer": "ipython3",
   "version": "3.7.6-final"
  },
  "latex_envs": {
   "LaTeX_envs_menu_present": true,
   "autoclose": false,
   "autocomplete": true,
   "bibliofile": "biblio.bib",
   "cite_by": "apalike",
   "current_citInitial": 1,
   "eqLabelWithNumbers": true,
   "eqNumInitial": 1,
   "hotkeys": {
    "equation": "Ctrl-E",
    "itemize": "Ctrl-I"
   },
   "labels_anchors": false,
   "latex_user_defs": false,
   "report_style_numbering": false,
   "user_envs_cfg": false
  }
 },
 "nbformat": 4,
 "nbformat_minor": 2
}